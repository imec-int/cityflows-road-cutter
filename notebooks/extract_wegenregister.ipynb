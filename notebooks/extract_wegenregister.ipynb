{
 "cells": [
  {
   "cell_type": "code",
   "execution_count": 1,
   "metadata": {},
   "outputs": [],
   "source": [
    "import geopandas as gpd\n",
    "from shapely.geometry import box, Point"
   ]
  },
  {
   "attachments": {},
   "cell_type": "markdown",
   "metadata": {},
   "source": [
    "# Load Wegenregister Wegsegment shapefile\n",
    "This notebooks reads the `Wegsegment.shp` file and puts it in CRS 4329. Furthermore it will also filter down based on a rectangle."
   ]
  },
  {
   "cell_type": "code",
   "execution_count": 2,
   "metadata": {},
   "outputs": [],
   "source": [
    "wegenregister_path = '../data/Wegenregister_SHAPE_20210916/Shapefile/Wegsegment.shp'\n",
    "streets = gpd.read_file(wegenregister_path).to_crs(4326)"
   ]
  },
  {
   "cell_type": "markdown",
   "metadata": {},
   "source": [
    "## Some exploration"
   ]
  },
  {
   "cell_type": "code",
   "execution_count": 3,
   "metadata": {},
   "outputs": [
    {
     "data": {
      "text/plain": [
       "(1027744, 26)"
      ]
     },
     "execution_count": 3,
     "metadata": {},
     "output_type": "execute_result"
    }
   ],
   "source": [
    "streets.shape"
   ]
  },
  {
   "cell_type": "code",
   "execution_count": 4,
   "metadata": {},
   "outputs": [
    {
     "data": {
      "text/html": [
       "<div>\n",
       "<style scoped>\n",
       "    .dataframe tbody tr th:only-of-type {\n",
       "        vertical-align: middle;\n",
       "    }\n",
       "\n",
       "    .dataframe tbody tr th {\n",
       "        vertical-align: top;\n",
       "    }\n",
       "\n",
       "    .dataframe thead th {\n",
       "        text-align: right;\n",
       "    }\n",
       "</style>\n",
       "<table border=\"1\" class=\"dataframe\">\n",
       "  <thead>\n",
       "    <tr style=\"text-align: right;\">\n",
       "      <th></th>\n",
       "      <th>WS_OIDN</th>\n",
       "      <th>WS_UIDN</th>\n",
       "      <th>WS_GIDN</th>\n",
       "      <th>B_WK_OIDN</th>\n",
       "      <th>E_WK_OIDN</th>\n",
       "      <th>STATUS</th>\n",
       "      <th>LBLSTATUS</th>\n",
       "      <th>MORF</th>\n",
       "      <th>LBLMORF</th>\n",
       "      <th>WEGCAT</th>\n",
       "      <th>...</th>\n",
       "      <th>LBLBEHEER</th>\n",
       "      <th>METHODE</th>\n",
       "      <th>LBLMETHOD</th>\n",
       "      <th>OPNDATUM</th>\n",
       "      <th>BEGINTIJD</th>\n",
       "      <th>BEGINORG</th>\n",
       "      <th>LBLBGNORG</th>\n",
       "      <th>TGBEP</th>\n",
       "      <th>LBLTGBEP</th>\n",
       "      <th>geometry</th>\n",
       "    </tr>\n",
       "  </thead>\n",
       "  <tbody>\n",
       "    <tr>\n",
       "      <th>0</th>\n",
       "      <td>1</td>\n",
       "      <td>1_1</td>\n",
       "      <td>1_1</td>\n",
       "      <td>126722</td>\n",
       "      <td>41353</td>\n",
       "      <td>4</td>\n",
       "      <td>in gebruik</td>\n",
       "      <td>114</td>\n",
       "      <td>wandel- of fietsweg, niet toegankelijk voor an...</td>\n",
       "      <td>-9</td>\n",
       "      <td>...</td>\n",
       "      <td>Stad Hasselt</td>\n",
       "      <td>2</td>\n",
       "      <td>ingemeten</td>\n",
       "      <td>20140220T143532</td>\n",
       "      <td>20140220T143532</td>\n",
       "      <td>AGIV</td>\n",
       "      <td>Agentschap voor Geografische Informatie Vlaand...</td>\n",
       "      <td>1</td>\n",
       "      <td>openbare weg</td>\n",
       "      <td>LINESTRING (5.32729 50.94057, 5.32772 50.93987)</td>\n",
       "    </tr>\n",
       "    <tr>\n",
       "      <th>1</th>\n",
       "      <td>2</td>\n",
       "      <td>2_1</td>\n",
       "      <td>2_1</td>\n",
       "      <td>3</td>\n",
       "      <td>4</td>\n",
       "      <td>4</td>\n",
       "      <td>in gebruik</td>\n",
       "      <td>120</td>\n",
       "      <td>dienstweg</td>\n",
       "      <td>-9</td>\n",
       "      <td>...</td>\n",
       "      <td>niet gekend</td>\n",
       "      <td>2</td>\n",
       "      <td>ingemeten</td>\n",
       "      <td>20140220T143532</td>\n",
       "      <td>20140220T143532</td>\n",
       "      <td>AGIV</td>\n",
       "      <td>Agentschap voor Geografische Informatie Vlaand...</td>\n",
       "      <td>1</td>\n",
       "      <td>openbare weg</td>\n",
       "      <td>LINESTRING (5.68984 50.74520, 5.69000 50.74520...</td>\n",
       "    </tr>\n",
       "    <tr>\n",
       "      <th>2</th>\n",
       "      <td>4</td>\n",
       "      <td>4_3</td>\n",
       "      <td>4_3</td>\n",
       "      <td>7</td>\n",
       "      <td>8</td>\n",
       "      <td>4</td>\n",
       "      <td>in gebruik</td>\n",
       "      <td>120</td>\n",
       "      <td>dienstweg</td>\n",
       "      <td>-9</td>\n",
       "      <td>...</td>\n",
       "      <td>Agentschap Wegen en Verkeer - District Centraa...</td>\n",
       "      <td>2</td>\n",
       "      <td>ingemeten</td>\n",
       "      <td>20170315T154411</td>\n",
       "      <td>20170315T154448</td>\n",
       "      <td>AWV</td>\n",
       "      <td>Agentschap Wegen en Verkeer</td>\n",
       "      <td>1</td>\n",
       "      <td>openbare weg</td>\n",
       "      <td>LINESTRING (5.53638 50.79004, 5.53627 50.79010...</td>\n",
       "    </tr>\n",
       "    <tr>\n",
       "      <th>3</th>\n",
       "      <td>6</td>\n",
       "      <td>6_3</td>\n",
       "      <td>6_3</td>\n",
       "      <td>650425</td>\n",
       "      <td>12</td>\n",
       "      <td>4</td>\n",
       "      <td>in gebruik</td>\n",
       "      <td>120</td>\n",
       "      <td>dienstweg</td>\n",
       "      <td>-9</td>\n",
       "      <td>...</td>\n",
       "      <td>Agentschap Wegen en Verkeer - District Centraa...</td>\n",
       "      <td>2</td>\n",
       "      <td>ingemeten</td>\n",
       "      <td>20170309T101322</td>\n",
       "      <td>20170309T101533</td>\n",
       "      <td>AWV</td>\n",
       "      <td>Agentschap Wegen en Verkeer</td>\n",
       "      <td>1</td>\n",
       "      <td>openbare weg</td>\n",
       "      <td>LINESTRING (5.36024 50.90154, 5.36032 50.90153...</td>\n",
       "    </tr>\n",
       "    <tr>\n",
       "      <th>4</th>\n",
       "      <td>7</td>\n",
       "      <td>7_1</td>\n",
       "      <td>7_1</td>\n",
       "      <td>41353</td>\n",
       "      <td>146626</td>\n",
       "      <td>4</td>\n",
       "      <td>in gebruik</td>\n",
       "      <td>114</td>\n",
       "      <td>wandel- of fietsweg, niet toegankelijk voor an...</td>\n",
       "      <td>-9</td>\n",
       "      <td>...</td>\n",
       "      <td>Stad Hasselt</td>\n",
       "      <td>2</td>\n",
       "      <td>ingemeten</td>\n",
       "      <td>20140220T143532</td>\n",
       "      <td>20140220T143532</td>\n",
       "      <td>AGIV</td>\n",
       "      <td>Agentschap voor Geografische Informatie Vlaand...</td>\n",
       "      <td>1</td>\n",
       "      <td>openbare weg</td>\n",
       "      <td>LINESTRING (5.32772 50.93987, 5.32777 50.93987...</td>\n",
       "    </tr>\n",
       "  </tbody>\n",
       "</table>\n",
       "<p>5 rows × 26 columns</p>\n",
       "</div>"
      ],
      "text/plain": [
       "   WS_OIDN WS_UIDN WS_GIDN  B_WK_OIDN  E_WK_OIDN  STATUS   LBLSTATUS  MORF  \\\n",
       "0        1     1_1     1_1     126722      41353       4  in gebruik   114   \n",
       "1        2     2_1     2_1          3          4       4  in gebruik   120   \n",
       "2        4     4_3     4_3          7          8       4  in gebruik   120   \n",
       "3        6     6_3     6_3     650425         12       4  in gebruik   120   \n",
       "4        7     7_1     7_1      41353     146626       4  in gebruik   114   \n",
       "\n",
       "                                             LBLMORF WEGCAT  ...  \\\n",
       "0  wandel- of fietsweg, niet toegankelijk voor an...     -9  ...   \n",
       "1                                          dienstweg     -9  ...   \n",
       "2                                          dienstweg     -9  ...   \n",
       "3                                          dienstweg     -9  ...   \n",
       "4  wandel- of fietsweg, niet toegankelijk voor an...     -9  ...   \n",
       "\n",
       "                                           LBLBEHEER  METHODE  LBLMETHOD  \\\n",
       "0                                       Stad Hasselt        2  ingemeten   \n",
       "1                                        niet gekend        2  ingemeten   \n",
       "2  Agentschap Wegen en Verkeer - District Centraa...        2  ingemeten   \n",
       "3  Agentschap Wegen en Verkeer - District Centraa...        2  ingemeten   \n",
       "4                                       Stad Hasselt        2  ingemeten   \n",
       "\n",
       "          OPNDATUM        BEGINTIJD BEGINORG  \\\n",
       "0  20140220T143532  20140220T143532     AGIV   \n",
       "1  20140220T143532  20140220T143532     AGIV   \n",
       "2  20170315T154411  20170315T154448      AWV   \n",
       "3  20170309T101322  20170309T101533      AWV   \n",
       "4  20140220T143532  20140220T143532     AGIV   \n",
       "\n",
       "                                           LBLBGNORG  TGBEP      LBLTGBEP  \\\n",
       "0  Agentschap voor Geografische Informatie Vlaand...      1  openbare weg   \n",
       "1  Agentschap voor Geografische Informatie Vlaand...      1  openbare weg   \n",
       "2                        Agentschap Wegen en Verkeer      1  openbare weg   \n",
       "3                        Agentschap Wegen en Verkeer      1  openbare weg   \n",
       "4  Agentschap voor Geografische Informatie Vlaand...      1  openbare weg   \n",
       "\n",
       "                                            geometry  \n",
       "0    LINESTRING (5.32729 50.94057, 5.32772 50.93987)  \n",
       "1  LINESTRING (5.68984 50.74520, 5.69000 50.74520...  \n",
       "2  LINESTRING (5.53638 50.79004, 5.53627 50.79010...  \n",
       "3  LINESTRING (5.36024 50.90154, 5.36032 50.90153...  \n",
       "4  LINESTRING (5.32772 50.93987, 5.32777 50.93987...  \n",
       "\n",
       "[5 rows x 26 columns]"
      ]
     },
     "execution_count": 4,
     "metadata": {},
     "output_type": "execute_result"
    }
   ],
   "source": [
    "streets.head()"
   ]
  },
  {
   "cell_type": "code",
   "execution_count": 5,
   "metadata": {},
   "outputs": [
    {
     "name": "stdout",
     "output_type": "stream",
     "text": [
      "WS_OIDN         int64\n",
      "WS_UIDN        object\n",
      "WS_GIDN        object\n",
      "B_WK_OIDN       int64\n",
      "E_WK_OIDN       int64\n",
      "STATUS          int64\n",
      "LBLSTATUS      object\n",
      "MORF            int64\n",
      "LBLMORF        object\n",
      "WEGCAT         object\n",
      "LBLWEGCAT      object\n",
      "LSTRNMID        int64\n",
      "LSTRNM         object\n",
      "RSTRNMID        int64\n",
      "RSTRNM         object\n",
      "BEHEER         object\n",
      "LBLBEHEER      object\n",
      "METHODE         int64\n",
      "LBLMETHOD      object\n",
      "OPNDATUM       object\n",
      "BEGINTIJD      object\n",
      "BEGINORG       object\n",
      "LBLBGNORG      object\n",
      "TGBEP           int64\n",
      "LBLTGBEP       object\n",
      "geometry     geometry\n",
      "dtype: object\n"
     ]
    }
   ],
   "source": [
    "print(streets.dtypes)"
   ]
  },
  {
   "cell_type": "code",
   "execution_count": 6,
   "metadata": {},
   "outputs": [
    {
     "name": "stdout",
     "output_type": "stream",
     "text": [
      "{71088: {'WS_OIDN': 74369, 'WS_UIDN': '74369_3', 'WS_GIDN': '74369_3', 'B_WK_OIDN': 822796, 'E_WK_OIDN': 980069, 'STATUS': 4, 'LBLSTATUS': 'in gebruik', 'MORF': 120, 'LBLMORF': 'dienstweg', 'WEGCAT': '-9', 'LBLWEGCAT': 'niet van toepassing', 'LSTRNMID': -9, 'LSTRNM': None, 'RSTRNMID': -9, 'RSTRNM': None, 'BEHEER': 'AWV121', 'LBLBEHEER': 'Agentschap Wegen en Verkeer - District Antwerpen', 'METHODE': 2, 'LBLMETHOD': 'ingemeten', 'OPNDATUM': '20170314T135019', 'BEGINTIJD': '20170314T140313', 'BEGINORG': 'AWV', 'LBLBGNORG': 'Agentschap Wegen en Verkeer', 'TGBEP': 1, 'LBLTGBEP': 'openbare weg', 'geometry': <shapely.geometry.linestring.LineString object at 0x7fdc9a7d5050>}}\n"
     ]
    }
   ],
   "source": [
    "print(streets[streets['WS_OIDN'] == 74369].to_dict(orient='index'))"
   ]
  },
  {
   "cell_type": "markdown",
   "metadata": {},
   "source": [
    "# Filtering & Transformation"
   ]
  },
  {
   "cell_type": "code",
   "execution_count": 7,
   "metadata": {},
   "outputs": [],
   "source": [
    "# filtering\n",
    "p1 = Point(4.2, 51.38)\n",
    "p2 = Point(4.52, 51.14)\n",
    "\n",
    "min_x = min(p1.x, p2.x)\n",
    "max_x = max(p1.x, p2.x)\n",
    "min_y = min(p1.y, p2.y)\n",
    "max_y = max(p1.y, p2.y)\n",
    "target_polygon = box(min_x, min_y, max_x, max_y)\n",
    "filtered_streets = streets[streets.intersects(target_polygon)]"
   ]
  },
  {
   "cell_type": "code",
   "execution_count": 8,
   "metadata": {},
   "outputs": [],
   "source": [
    "output_file = '../data/wegenregister_filtered.geojson'\n",
    "filtered_streets.to_file(output_file, driver='GeoJSON')"
   ]
  }
 ],
 "metadata": {
  "kernelspec": {
   "display_name": "Python 3",
   "language": "python",
   "name": "python3"
  },
  "language_info": {
   "codemirror_mode": {
    "name": "ipython",
    "version": 3
   },
   "file_extension": ".py",
   "mimetype": "text/x-python",
   "name": "python",
   "nbconvert_exporter": "python",
   "pygments_lexer": "ipython3",
   "version": "3.8.10 (default, Jun 22 2022, 20:18:18) \n[GCC 9.4.0]"
  },
  "vscode": {
   "interpreter": {
    "hash": "916dbcbb3f70747c44a77c7bcd40155683ae19c65e1c03b4aa3499c5328201f1"
   }
  }
 },
 "nbformat": 4,
 "nbformat_minor": 2
}
